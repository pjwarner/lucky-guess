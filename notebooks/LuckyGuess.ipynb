{
 "cells": [
  {
   "cell_type": "code",
   "execution_count": 1,
   "id": "58c3a6a9-fbe2-4ac3-9113-2f523bd0639b",
   "metadata": {},
   "outputs": [
    {
     "name": "stdout",
     "output_type": "stream",
     "text": [
      "https://www.reddit.com/r/orioles/search?sort=new&restrict_sr=on&q=flair:Lucky%2BGuess\n"
     ]
    }
   ],
   "source": [
    "print(\"https://www.reddit.com/r/orioles/search?sort=new&restrict_sr=on&q=flair:Lucky%2BGuess\")"
   ]
  },
  {
   "cell_type": "markdown",
   "id": "875a7a0b-c9ff-49b1-a38e-19cd9b90e8e0",
   "metadata": {},
   "source": [
    "# Get the latest scores"
   ]
  },
  {
   "cell_type": "code",
   "execution_count": 2,
   "id": "1db1bf71-3612-4653-8e5b-e6bd7baa6d1e",
   "metadata": {},
   "outputs": [
    {
     "name": "stdout",
     "output_type": "stream",
     "text": [
      "Game ID: 776579\n",
      "Date: 2025-08-27 Baltimore Orioles (0) :: Boston Red Sox (0)\n",
      "--------------------\n",
      "Game ID: 776591\n",
      "Date: 2025-08-26 Baltimore Orioles (0) :: Boston Red Sox (5)\n",
      "--------------------\n",
      "Game ID: 776604\n",
      "Date: 2025-08-25 Baltimore Orioles (3) :: Boston Red Sox (4)\n",
      "--------------------\n",
      "Game ID: 776612\n",
      "Date: 2025-08-24 Baltimore Orioles (3) :: Houston Astros (2)\n",
      "--------------------\n"
     ]
    }
   ],
   "source": [
    "import statsapi\n",
    "from datetime import date, timedelta\n",
    "\n",
    "for x in range(4):\n",
    "    today = (date.today() - timedelta(days=x)).strftime(\"%Y-%m-%d\")\n",
    "    team_id = 110\n",
    "    schedule_data = statsapi.schedule(date=today, team=team_id)\n",
    "    \n",
    "    if schedule_data:\n",
    "            for game in schedule_data:\n",
    "                print(f\"Game ID: {game['game_id']}\")\n",
    "                print(f\"Date: {game['game_date']}\",f\"{game['home_name']} ({game['home_score']})\", \"::\",f\"{game['away_name']} ({game['away_score']})\")\n",
    "                print(\"-\" * 20)\n",
    "    else:\n",
    "        print(f\"No games found for team ID {team_id} on {today}.\")\n",
    "        print(\"-\" * 20)"
   ]
  },
  {
   "cell_type": "code",
   "execution_count": 3,
   "id": "29db40fb-da7a-42cd-a7d4-58f9dbe557e8",
   "metadata": {},
   "outputs": [],
   "source": [
    "s_id = '1n0a5zg'\n",
    "the_score = [5,0]\n",
    "target_team = \"Orioles\"\n",
    "winning_team = \"Red Sox\"\n",
    "publish_entries = True\n",
    "\n",
    "run_today = True #Are we running it for today (True) or tomorrow (False)\n",
    "postponed = False # Did we have a postponed game\n",
    "days_to_skip = 1 # 1 to run for tomorrow add more if multiple days off\n",
    "\n",
    "# The ID of the spreadsheet.\n",
    "SPREADSHEET_ID = '1TxZmOdTsMRsLlpJQ5Bu04e3-kWuOdRvK40L4eRYYmWU'"
   ]
  },
  {
   "cell_type": "code",
   "execution_count": 4,
   "id": "5c473fb9-d498-469e-89b5-080256d5973c",
   "metadata": {},
   "outputs": [],
   "source": [
    "import praw\n",
    "import random\n",
    "import os.path\n",
    "\n",
    "#importing local .py files that have lookups and stuff\n",
    "import team_lookup # Used to pull in the team subreddits so i dont have to type them out\n",
    "import tie_breakers # This is a list of tie breakers that will randomly populate in the template\n",
    "import config # this is where I store the PRAW credentials\n",
    "\n",
    "import pandas as pd\n",
    "import numpy as np\n",
    "\n",
    "#Used to auto create some text\n",
    "import google.generativeai as genai\n",
    "\n",
    "# Used to make permalinks clickable in tables\n",
    "from IPython.display import display, HTML, Markdown\n",
    "\n",
    "from io import StringIO\n",
    "from datetime import datetime, timedelta\n",
    "\n",
    "from urllib.parse import quote\n",
    "\n",
    "#Required for Google Sheets Uploads\n",
    "import google.auth\n",
    "from google.auth.transport.requests import Request\n",
    "from google.oauth2.credentials import Credentials\n",
    "from google_auth_oauthlib.flow import InstalledAppFlow\n",
    "from googleapiclient.discovery import build\n",
    "from googleapiclient.errors import HttpError"
   ]
  },
  {
   "cell_type": "code",
   "execution_count": 5,
   "id": "3b172dae-1e01-4e44-9c45-85b86ca16e3a",
   "metadata": {},
   "outputs": [],
   "source": [
    "# Function for creating Pandas Dataframe links for validation if needed\n",
    "def make_clickable(url, name):\n",
    "    return '<a href=\"{}\" rel=\"noopener noreferrer\" target=\"_blank\">{}</a>'.format(url,name)\n",
    "\n",
    "# Used to see if a value was already added to the plus_six list\n",
    "def check_value_in_list_of_lists(list_of_lists, value):\n",
    "    for sublist in list_of_lists:\n",
    "        if value in sublist:\n",
    "            return True\n",
    "    return False\n",
    "\n",
    "def get_scores(scores):\n",
    "    tmp = scores.split('-')\n",
    "    \n",
    "def parse_score(comment):\n",
    "    try:\n",
    "        #print comment\n",
    "        data = comment.split(' ')\n",
    "        score = data[0].split('-')\n",
    "        team = data[1].replace(',','')\n",
    "        \n",
    "        score[0] = int(score[0])\n",
    "        score[1] = int(score[1])\n",
    "        \n",
    "        score.append(team)\n",
    "        \n",
    "        if len(data) > 2:\n",
    "            tie_break = data[2]\n",
    "            score.append(tie_break)\n",
    "        else:\n",
    "            #print data, 'incorrect input'\n",
    "            incorrect_data.append(comment)\n",
    "        \n",
    "        return score\n",
    "    except:\n",
    "        print('[X] - Failed on: ' + comment)\n",
    "        return\n",
    "\n",
    "def append_values(spreadsheet_id, range_name, value_input_option, _values):\n",
    "  \"\"\"\n",
    "  Creates the batch_update the user has access to.\n",
    "  Load pre-authorized user credentials from the environment.\n",
    "  TODO(developer) - See https://developers.google.com/identity\n",
    "  for guides on implementing OAuth2 for the application.\n",
    "  \"\"\"\n",
    "\n",
    "  try:\n",
    "    service = build(\"sheets\", \"v4\", credentials=creds)\n",
    "\n",
    "    values = [\n",
    "        [\n",
    "            # Cell values ...\n",
    "        ],\n",
    "        # Additional rows ...\n",
    "    ]\n",
    "    body = {\"values\": _values}\n",
    "    result = (\n",
    "        service.spreadsheets()\n",
    "        .values()\n",
    "        .append(\n",
    "            spreadsheetId=spreadsheet_id,\n",
    "            range=range_name,\n",
    "            valueInputOption=value_input_option,\n",
    "            body=body,\n",
    "        )\n",
    "        .execute()\n",
    "    )\n",
    "    print(f\"{(result.get('updates').get('updatedCells'))} cells appended.\")\n",
    "    return result\n",
    "\n",
    "  except HttpError as error:\n",
    "    print(f\"An error occurred: {error}\")\n",
    "    return error\n"
   ]
  },
  {
   "cell_type": "code",
   "execution_count": 6,
   "id": "a898851a-dffa-4df6-b030-e76538b7cc3f",
   "metadata": {},
   "outputs": [],
   "source": [
    "if not run_today:\n",
    "    today = datetime.now() + timedelta(days=days_to_skip)\n",
    "else:\n",
    "    today = datetime.now()\n",
    "\n",
    "year = today.strftime(\"%Y\")\n",
    "month = today.strftime(\"%m\")\n",
    "day = today.strftime(\"%d\")\n",
    "\n",
    "r = praw.Reddit(\n",
    "    client_id = config.client_id,\n",
    "    client_secret = config.client_secret,\n",
    "    user_agent = config.user_agent,\n",
    ")\n",
    "\n",
    "submission = r.submission(s_id)\n",
    "\n",
    "# This is used to establish the \"range\" for +/- 1 results\n",
    "top_score = []\n",
    "bottom_score = []\n",
    "\n",
    "incorrect_data = []\n",
    "review_data = []\n",
    "plus_six = []\n",
    "plus_one = []\n",
    "entries = []\n",
    "\n",
    "top_score.append(the_score[0]-1)\n",
    "top_score.append(the_score[0])\n",
    "top_score.append(the_score[0]+1)\n",
    "    \n",
    "bottom_score.append(the_score[1]-1)\n",
    "bottom_score.append(the_score[1])\n",
    "bottom_score.append(the_score[1]+1)\n",
    "\n"
   ]
  },
  {
   "cell_type": "code",
   "execution_count": 7,
   "id": "4b9dee07-b57b-4b0a-ba9d-d0a8e1d43256",
   "metadata": {},
   "outputs": [
    {
     "name": "stdout",
     "output_type": "stream",
     "text": [
      "pasing exact...\n",
      "parsing +/- 1...\n",
      "\n"
     ]
    }
   ],
   "source": [
    "print('pasing exact...')\n",
    "for x in submission.comments:\n",
    "    #Create permalink for submission review\n",
    "    permalink = make_clickable('https://reddit.com' + x.permalink, 'Link')\n",
    "    sheets_permalink = \"=HYPERLINK(\\\"https://reddit.com\" + x.permalink + \"\\\", \\\"Link\\\")\"\n",
    "    \n",
    "    try:\n",
    "        tmp = parse_score(x.body)\n",
    "    except:\n",
    "        incorrect_data.append(x)\n",
    "\n",
    "    if tmp is None:\n",
    "        continue\n",
    "    \n",
    "    if len(tmp) < 4:\n",
    "        incorrect_data.append(x)\n",
    "        continue\n",
    "    \n",
    "    # Establish the list for the google sheets upload\n",
    "    date = submission.title.split(' ')[2]\n",
    "    entries.append([date,\n",
    "                '/u/' + str(x.author),\n",
    "                str(tmp[0]) + '-' + str(tmp[1]),\n",
    "                tmp[2],\n",
    "                tmp[3], \n",
    "                datetime.fromtimestamp(x.created_utc).strftime('%Y-%m-%d %H:%M:%S'), \n",
    "                sheets_permalink,\n",
    "                'False'])\n",
    "        \n",
    "    if tmp[0] == the_score[0] and tmp[1] == the_score[1]:\n",
    "        if tmp[2] in team_lookup.team_selection[winning_team]: # Check if the team is correct\n",
    "            # See if the submission is an edited post to flag it\n",
    "            if x.edited:\n",
    "                plus_six.append(['e_/u/' + str(x.author),#.ljust(25,' '), \n",
    "                                 tmp[2],\n",
    "                                 tmp[3], \n",
    "                                 datetime.fromtimestamp(x.edited).strftime('%Y-%m-%d %H:%M:%S'), \n",
    "                                 permalink, \n",
    "                                 'True'])\n",
    "            else:\n",
    "                plus_six.append(['/u/' + str(x.author),#.ljust(25,' '), \n",
    "                                 tmp[2],\n",
    "                                 tmp[3], \n",
    "                                 datetime.fromtimestamp(x.created_utc).strftime('%Y-%m-%d %H:%M:%S'), \n",
    "                                 permalink,\n",
    "                                 'False'])\n",
    "        else:\n",
    "            review_data.append(['/u/' + str(x.author),#.ljust(25,' '),\n",
    "                                 tmp[2],\n",
    "                                 tmp[3], \n",
    "                                 datetime.fromtimestamp(x.edited).strftime('%Y-%m-%d %H:%M:%S'), \n",
    "                                 permalink, \n",
    "                                 'True'])\n",
    "print('parsing +/- 1...\\n')\n",
    "for x in submission.comments:\n",
    "    permalink = make_clickable('https://reddit.com' + x.permalink, 'Link')\n",
    "    try:\n",
    "        tmp = parse_score(x.body)\n",
    "    except:\n",
    "        incorrect_data.append(x)\n",
    "\n",
    "    if tmp is None:\n",
    "        continue\n",
    "    \n",
    "    if len(tmp) < 4:\n",
    "        incorrect_data.append(x)\n",
    "        continue\n",
    "    \n",
    "    # Check if they were already recorded for plus_six exclude if they were\n",
    "    if tmp[0] in top_score and tmp[1] in bottom_score and not check_value_in_list_of_lists(plus_six, '/u/' + str(x.author)):\n",
    "        if tmp[2] in team_lookup.team_selection[winning_team]: # Check if the team is correct\n",
    "            if x.edited:\n",
    "                plus_one.append(['/u/' + str(x.author),#.ljust(25,' '),\n",
    "                                 tmp[2],\n",
    "                                 tmp[3], \n",
    "                                 datetime.fromtimestamp(x.created_utc).strftime('%Y-%m-%d %H:%M:%S'), \n",
    "                                 permalink, \n",
    "                                 'True'])\n",
    "            else:\n",
    "                plus_one.append(['/u/' + str(x.author),#.ljust(25,' '), \n",
    "                                 tmp[2],\n",
    "                                 tmp[3], \n",
    "                                 datetime.fromtimestamp(x.created_utc).strftime('%Y-%m-%d %H:%M:%S'), \n",
    "                                 permalink, \n",
    "                                 'False'])\n",
    "        else:\n",
    "            review_data.append(['/u/' + str(x.author),#.ljust(25,' '),\n",
    "                                 tmp[2],\n",
    "                                 tmp[3], \n",
    "                                 datetime.fromtimestamp(x.created_utc).strftime('%Y-%m-%d %H:%M:%S'), \n",
    "                                 permalink, \n",
    "                                 'True'])"
   ]
  },
  {
   "cell_type": "markdown",
   "id": "df407cd5-484d-42a8-a7f1-4e48e6e3a3d8",
   "metadata": {},
   "source": [
    "# Plus Six Points Group"
   ]
  },
  {
   "cell_type": "code",
   "execution_count": 8,
   "id": "2d27f7be-310d-471f-af83-6a28dc5a171e",
   "metadata": {},
   "outputs": [
    {
     "data": {
      "text/html": [
       "<table border=\"1\" class=\"dataframe\">\n",
       "  <thead>\n",
       "    <tr style=\"text-align: right;\">\n",
       "      <th></th>\n",
       "      <th>user</th>\n",
       "      <th>team</th>\n",
       "      <th>tie_break</th>\n",
       "      <th>post_date</th>\n",
       "      <th>Link</th>\n",
       "      <th>IsEdited</th>\n",
       "    </tr>\n",
       "  </thead>\n",
       "  <tbody>\n",
       "  </tbody>\n",
       "</table>"
      ],
      "text/plain": [
       "<IPython.core.display.HTML object>"
      ]
     },
     "metadata": {},
     "output_type": "display_data"
    }
   ],
   "source": [
    "df_plus_six = pd.DataFrame(columns=list(['user', 'team', 'tie_break', 'post_date', 'Link', 'IsEdited']))\n",
    "\n",
    "for x in plus_six:\n",
    "    df_plus_six.loc[len(df_plus_six)] = x\n",
    "\n",
    "display(HTML(df_plus_six.to_html(escape=False)))"
   ]
  },
  {
   "cell_type": "markdown",
   "id": "06617814-60f8-4bf5-936b-a2c09b18c6ef",
   "metadata": {},
   "source": [
    "# PLUS One Point Group"
   ]
  },
  {
   "cell_type": "code",
   "execution_count": 9,
   "id": "6895a16c-31bc-4b59-ae7c-61e47804a332",
   "metadata": {},
   "outputs": [
    {
     "data": {
      "text/html": [
       "<table border=\"1\" class=\"dataframe\">\n",
       "  <thead>\n",
       "    <tr style=\"text-align: right;\">\n",
       "      <th></th>\n",
       "      <th>user</th>\n",
       "      <th>team</th>\n",
       "      <th>tie_break</th>\n",
       "      <th>post_date</th>\n",
       "      <th>Link</th>\n",
       "      <th>IsEdited</th>\n",
       "    </tr>\n",
       "  </thead>\n",
       "  <tbody>\n",
       "  </tbody>\n",
       "</table>"
      ],
      "text/plain": [
       "<IPython.core.display.HTML object>"
      ]
     },
     "metadata": {},
     "output_type": "display_data"
    }
   ],
   "source": [
    "df_plus_one = pd.DataFrame(columns=list(['user', 'team', 'tie_break', 'post_date', 'Link', 'IsEdited']))\n",
    "\n",
    "for x in plus_one:\n",
    "    #print('\\t\\t'.join(x))\n",
    "    df_plus_one.loc[len(df_plus_one)] = x\n",
    "\n",
    "display(HTML(df_plus_one.to_html(escape=False)))"
   ]
  },
  {
   "cell_type": "markdown",
   "id": "8e382e7c-6d76-4b6e-8371-751c9135e6c7",
   "metadata": {},
   "source": [
    "## Review Data"
   ]
  },
  {
   "cell_type": "code",
   "execution_count": 10,
   "id": "d2774e30-6f70-47b5-bd85-fdc177f5ecbd",
   "metadata": {},
   "outputs": [
    {
     "data": {
      "text/html": [
       "<table border=\"1\" class=\"dataframe\">\n",
       "  <thead>\n",
       "    <tr style=\"text-align: right;\">\n",
       "      <th></th>\n",
       "      <th>user</th>\n",
       "      <th>team</th>\n",
       "      <th>tie_break</th>\n",
       "      <th>post_date</th>\n",
       "      <th>Link</th>\n",
       "      <th>IsEdited</th>\n",
       "    </tr>\n",
       "  </thead>\n",
       "  <tbody>\n",
       "  </tbody>\n",
       "</table>"
      ],
      "text/plain": [
       "<IPython.core.display.HTML object>"
      ]
     },
     "metadata": {},
     "output_type": "display_data"
    }
   ],
   "source": [
    "df_review = pd.DataFrame(columns=list(['user', 'team', 'tie_break', 'post_date', 'Link', 'IsEdited']))\n",
    "\n",
    "for x in review_data:\n",
    "    #print('\\t\\t'.join(x))\n",
    "    df_review.loc[len(df_review)] = x\n",
    "\n",
    "display(HTML(df_review.to_html(escape=False)))"
   ]
  },
  {
   "cell_type": "code",
   "execution_count": 11,
   "id": "53b3829e-2dba-41c3-b796-f7b8997ceef7",
   "metadata": {},
   "outputs": [],
   "source": [
    "# These are the folks that dont know how to follow rules, include at your discretion :D\n",
    "#incorrect = dict.fromkeys(incorrect_data).keys()\n",
    "\n",
    "for x in incorrect_data:\n",
    "    try:\n",
    "        print(x.author, x.body)\n",
    "    except AttributeError:\n",
    "        print('\\t'.join([x[0], x[1], x[2]]))\n",
    "    except:\n",
    "        print(x)"
   ]
  },
  {
   "cell_type": "markdown",
   "id": "73e8acbd-6bb3-4311-a7d5-ef28e3f9512c",
   "metadata": {},
   "source": [
    "## Update the scoreboard"
   ]
  },
  {
   "cell_type": "code",
   "execution_count": 12,
   "id": "3adfa20d-cad7-4431-a3ac-0aa22df84f5f",
   "metadata": {},
   "outputs": [],
   "source": [
    "#df_table_test = pd.read_html(StringIO(submission.selftext_html))"
   ]
  },
  {
   "cell_type": "code",
   "execution_count": 13,
   "id": "db757f57-ec1f-4622-9ebd-b2b99a9ec925",
   "metadata": {},
   "outputs": [],
   "source": [
    "#df_table_test[0]"
   ]
  },
  {
   "cell_type": "code",
   "execution_count": 14,
   "id": "94d588be-a48f-4bbc-97f4-a9440dc6ea76",
   "metadata": {},
   "outputs": [],
   "source": [
    "#df_table_test[0]['Exact'] = np.where(df_table[0].Username == x[0], df_table[0]['Exact'] + 1, df_table[0]['Exact'])"
   ]
  },
  {
   "cell_type": "code",
   "execution_count": 15,
   "id": "bd66f214-98ee-43f5-b0d2-8faf94e2d1af",
   "metadata": {},
   "outputs": [
    {
     "name": "stdout",
     "output_type": "stream",
     "text": [
      "|   Rank | Username               |   Exact |   +/-1 |   Lost Tie |   Total Points |\n",
      "|-------:|:-----------------------|--------:|-------:|-----------:|---------------:|\n",
      "|      1 | /u/KiwisOfWrath        |       2 |      2 |          0 |             14 |\n",
      "|      2 | /u/zombiereign         |       1 |      1 |          0 |              7 |\n",
      "|      3 | /u/malkusm             |       0 |      7 |          0 |              7 |\n",
      "|      4 | /u/kingfiasco          |       0 |      6 |          0 |              6 |\n",
      "|      5 | /u/bromanow025         |       1 |      0 |          0 |              6 |\n",
      "|      6 | /u/jjk2                |       0 |      4 |          0 |              4 |\n",
      "|      7 | /u/ruffyen             |       0 |      3 |          0 |              3 |\n",
      "|      8 | /u/Birdland-Flock      |       0 |      3 |          0 |              3 |\n",
      "|      9 | /u/Jeff_Banks_Monkey   |       0 |      2 |          0 |              2 |\n",
      "|     10 | /u/Froslitz            |       0 |      2 |          0 |              2 |\n",
      "|     11 | /u/dwhite21787         |       0 |      2 |          0 |              2 |\n",
      "|     12 | /u/Master_najee99      |       0 |      2 |          0 |              2 |\n",
      "|     13 | /u/Ndysmth             |       0 |      1 |          0 |              1 |\n",
      "|     14 | /u/OMGisitOVERyet      |       0 |      1 |          0 |              1 |\n",
      "|     15 | /u/DrDinglberry        |       0 |      1 |          0 |              1 |\n",
      "|     16 | /u/beastrace           |       0 |      1 |          0 |              1 |\n",
      "|     17 | /u/lvmonkey22          |       0 |      1 |          0 |              1 |\n",
      "|     18 | /u/Ok_Platypus2016     |       0 |      1 |          0 |              1 |\n",
      "|     19 | /u/SecurityPrudent3817 |       0 |      1 |          0 |              1 |\n",
      "|     20 | /u/AussieBeerCan       |       0 |      1 |          0 |              1 |\n"
     ]
    }
   ],
   "source": [
    "f = StringIO(submission.selftext_html)\n",
    "df_table = pd.read_html(StringIO(submission.selftext_html))\n",
    "\n",
    "for x in plus_one:\n",
    "    value_to_check = x[0]\n",
    "    check = df_table[0]['Username'].isin([value_to_check])\n",
    "    \n",
    "    if check.any(): #Is the username already listed...if so update its values\n",
    "        df_table[0]['+/-1'] = np.where(df_table[0].Username == x[0], df_table[0]['+/-1'] + 1, df_table[0]['+/-1'])\n",
    "    else: # Create a new player and set +/-1 to 1 since this is their first rodeo\n",
    "        new_entry = [0, x[0], 0, 1, 0, 0]\n",
    "        df_table[0].loc[len(df_table[0])] = new_entry\n",
    "        \n",
    "\n",
    "for x in plus_six:\n",
    "    value_to_check = x[0]\n",
    "    check = df_table[0]['Username'].isin([value_to_check])\n",
    "    \n",
    "    if check.any(): #Is the username already listed...if so update its values\n",
    "        df_table[0]['Exact'] = np.where(df_table[0].Username == x[0], df_table[0]['Exact'] + 1, df_table[0]['Exact'])\n",
    "    else: # Create a new player and set exact to 1 since this is their first rodeo \n",
    "        new_entry = [0, x[0], 1, 0, 0, 0]\n",
    "        df_table[0].loc[len(df_table[0])] = new_entry\n",
    "\n",
    "# Calculate the Scores\n",
    "df_table[0]['Total Points'] =  (df_table[0]['Exact'] * 6) + (df_table[0][\"+/-1\"] * 1) + (df_table[0][\"Lost Tie\"] * 2)\n",
    "\n",
    "# Set the Rank\n",
    "df_table[0].sort_values(by='Total Points', ascending=False, inplace=True)\n",
    "df_table[0]['Rank'] = df_table[0].reset_index(drop=True).index + 1\n",
    "\n",
    "print(df_table[0].sort_values(by='Total Points', ascending=False).to_markdown(index=False))\n",
    "scoreboard = df_table[0].sort_values(by='Total Points', ascending=False).to_markdown(index=False)"
   ]
  },
  {
   "cell_type": "markdown",
   "id": "1bda7fba-5795-493c-8767-bf873783d58d",
   "metadata": {},
   "source": [
    "## Create Congratulatory AI Text"
   ]
  },
  {
   "cell_type": "code",
   "execution_count": 16,
   "id": "d12cccb1-1d60-4d38-8e2d-d6f95af630a9",
   "metadata": {},
   "outputs": [],
   "source": [
    "congrats_text = \"UPDATE THIS!!!!!!!!!!!!!!!!!!!!!!\""
   ]
  },
  {
   "cell_type": "code",
   "execution_count": 17,
   "id": "8a21db8b-283e-4bfc-a390-0f980b52c234",
   "metadata": {},
   "outputs": [
    {
     "name": "stdout",
     "output_type": "stream",
     "text": [
      "0\n",
      "0\n"
     ]
    }
   ],
   "source": [
    "print(len(df_plus_six['user'].to_list()))\n",
    "print(len(df_plus_one['user'].to_list()))"
   ]
  },
  {
   "cell_type": "code",
   "execution_count": 18,
   "id": "632e0a19-ef37-41fd-824b-8daeba3e3d99",
   "metadata": {},
   "outputs": [
    {
     "name": "stdout",
     "output_type": "stream",
     "text": [
      "Number of Exact: 0\n",
      "Number of +/-1: 0\n",
      "\n",
      "5\n"
     ]
    }
   ],
   "source": [
    "genai.configure(api_key=config.ai_api_key)\n",
    "model = genai.GenerativeModel('gemini-2.0-flash')\n",
    "\n",
    "def generate_output(prompt):\n",
    "    response = model.generate_content(\n",
    "        prompt,\n",
    "        request_options = {\n",
    "            \"timeout\": 1000\n",
    "        }\n",
    "    )\n",
    "\n",
    "    try:\n",
    "        return response.text\n",
    "    except Exception as ex:\n",
    "        raise ex\n",
    "\n",
    "print(\"Number of Exact: {}\\nNumber of +/-1: {}\\n\".format(len(df_plus_six['user'].to_list()), len(df_plus_one['user'].to_list())))\n",
    "\n",
    "if (len(df_plus_six['user'].to_list()) > 0) & (len(df_plus_one['user'].to_list()) > 0):\n",
    "    print(1)\n",
    "    prompt = \"\"\"\n",
    "        You run a game called Lucky Guess where users guess the outcome of a game and the score.\n",
    "        Users who guess it exactly right get 6 points while all other users will get 1 point for guessing within 1 run of the score on either side.\n",
    "        With this informaiton in mind I would like for you to generate me a short congratulation blurb.\n",
    "        Some key points regarding the blurb are that the users are all fans of the Orioles and the sport in question is Baseball.\n",
    "        The blurb should be baseball themed and potentially even include some Orioles facts but don't just talk about Cal Ripken. \n",
    "        Please congratulate the following users that guessed exactly {} and the other users are {}. I only need the body of the text nothing else\n",
    "        and be sure to mention the users.\n",
    "        \"\"\".format(','.join(df_plus_six['user'].to_list()), ','.join(df_plus_one['user'].to_list()))\n",
    "\n",
    "elif (len(df_plus_six['user'].to_list()) > 0) & (len(df_plus_one['user'].to_list()) < 1):\n",
    "    print(2)\n",
    "    prompt = \"\"\"\n",
    "        You run a game called Lucky Guess where users guess the outcome of a game and the score.\n",
    "        Users who guess it exactly right get 6 points while all other users will get 1 point for guessing within 1 run of the score on either side.\n",
    "        With this informaiton in mind I would like for you to generate me a short congratulation blurb.\n",
    "        Some key points regarding the blurb are that the users are all fans of the Orioles and the sport in question is Baseball.\n",
    "        The blurb should be baseball themed and potentially even include some Orioles facts but don't just talk about Cal Ripken. \n",
    "        Please congratulate the following users that guessed exactly {}. I only need the body of the text nothing else and be sure to mention the users.\n",
    "        \"\"\".format(','.join(df_plus_six['user'].to_list()))\n",
    "\n",
    "elif (len(df_plus_six['user'].to_list()) < 1) & (len(df_plus_one['user'].to_list()) > 0):\n",
    "    print(3)\n",
    "    prompt = \"\"\"\n",
    "        You run a game called Lucky Guess where users guess the outcome of a game and the score.\n",
    "        Users who guess it exactly right get 6 points while all other users will get 1 point for guessing within 1 run of the score on either side.\n",
    "        With this informaiton in mind I would like for you to generate me a short congratulation blurb.\n",
    "        Some key points regarding the blurb are that the users are all fans of the Orioles and the sport in question is Baseball.\n",
    "        The blurb should be baseball themed and potentially even include some Orioles facts but don't just talk about Cal Ripken. \n",
    "        Please congratulate the following users {}. These users did get a point.\n",
    "        I only need the body of the text nothing else and be sure to mention the users.\n",
    "        \"\"\".format(','.join(df_plus_one['user'].to_list()))\n",
    "\n",
    "elif(postponed):\n",
    "    print(4)\n",
    "    prompt = \"\"\"\n",
    "        You run a game called Lucky Guess where users guess the outcome of a game and the score.\n",
    "        Users who guess it exactly right get 6 points while all other users will get 1 point for guessing within 1 run of the score on either side.\n",
    "        With this informaiton in mind I would like for you to generate me a short congratulation blurb.\n",
    "        Some key points regarding the blurb are that the users are all fans of the Orioles and the sport in question is Baseball.\n",
    "        Unfortunately the game was postponed so just give me a sorriful response and the fun fact about weather. I only need the body of the text nothing else\n",
    "        \"\"\"\n",
    "\n",
    "else:\n",
    "    print(5)\n",
    "    prompt = \"\"\"\n",
    "        You run a game called Lucky Guess where users guess the outcome of a game and the score.\n",
    "        Users who guess it exactly right get 6 points while all other users will get 1 point for guessing within 1 run of the score on either side.\n",
    "        With this informaiton in mind I would like for you to generate me a short congratulation blurb.\n",
    "        Some key points regarding the blurb are that the users are all fans of the Orioles and the sport in question is Baseball.\n",
    "        Unfortunately no one scored any points this game so just give me a sorriful response and the fun fact. I only need the body of the text nothing else\n",
    "        \"\"\"\n",
    "congrats_text = generate_output(prompt)\n",
    "#print(congrats_text)"
   ]
  },
  {
   "cell_type": "markdown",
   "id": "f07ecabb-4b06-424e-af22-be4f2be788fb",
   "metadata": {},
   "source": [
    "## Publish the entries to Google Sheet"
   ]
  },
  {
   "cell_type": "code",
   "execution_count": 19,
   "id": "ed074965-3846-4ecc-8c0b-05139629cca3",
   "metadata": {},
   "outputs": [],
   "source": [
    "if publish_entries:\n",
    "    SCOPES = [\"https://www.googleapis.com/auth/spreadsheets\"]\n",
    "\n",
    "    creds = None\n",
    "    \n",
    "    if os.path.exists(\"token.json\"):\n",
    "        creds = Credentials.from_authorized_user_file(\"token.json\", SCOPES)\n",
    "    \n",
    "    # If there are no (valid) credentials available, let the user log in.\n",
    "    if not creds or not creds.valid:\n",
    "        if creds and creds.expired and creds.refresh_token:\n",
    "          creds.refresh(Request())\n",
    "        else:\n",
    "          flow = InstalledAppFlow.from_client_secrets_file(\n",
    "              \"00_google_app_oauth.json\", SCOPES\n",
    "          )\n",
    "          creds = flow.run_local_server(port=0)\n",
    "    \n",
    "    # Save the credentials for the next run\n",
    "    with open(\"token.json\", \"w\") as token:\n",
    "      token.write(creds.to_json())"
   ]
  },
  {
   "cell_type": "code",
   "execution_count": 20,
   "id": "f268ae6d-4f6b-4497-979f-954928bc9ff8",
   "metadata": {},
   "outputs": [
    {
     "name": "stdout",
     "output_type": "stream",
     "text": [
      "An error occurred: <HttpError 503 when requesting https://sheets.googleapis.com/v4/spreadsheets/1TxZmOdTsMRsLlpJQ5Bu04e3-kWuOdRvK40L4eRYYmWU/values/data%21A1:append?valueInputOption=USER_ENTERED&alt=json returned \"The service is currently unavailable.\". Details: \"The service is currently unavailable.\">\n"
     ]
    }
   ],
   "source": [
    "if publish_entries:\n",
    "    append_values(\n",
    "          SPREADSHEET_ID,\n",
    "          \"data!A1\",\n",
    "          \"USER_ENTERED\",\n",
    "          entries,\n",
    "    )\n",
    "else:\n",
    "    print(\"entries not published!\")"
   ]
  },
  {
   "cell_type": "markdown",
   "id": "42de07ed-329f-43cb-b72a-dfa1bb733ed3",
   "metadata": {},
   "source": [
    "## Pull the data for the pitchers"
   ]
  },
  {
   "cell_type": "code",
   "execution_count": 21,
   "id": "dc92cad5-a0c9-4eb6-abfb-af910f09a86c",
   "metadata": {},
   "outputs": [],
   "source": [
    "import requests\n",
    "import urllib3 as ul2\n",
    "\n",
    "#import mongo_conn\n",
    "\n",
    "from collections import defaultdict\n",
    "from bs4 import BeautifulSoup as bs"
   ]
  },
  {
   "cell_type": "code",
   "execution_count": 22,
   "id": "3cfb41d6-6c9d-44bb-a6c2-3224c0151260",
   "metadata": {},
   "outputs": [
    {
     "name": "stdout",
     "output_type": "stream",
     "text": [
      "Red Sox\n",
      "@\n",
      "Orioles\n",
      "[Brayan Bello](https://mlb.com/player/brayan-bello-678394)\n",
      "[Dietrich Enns](https://mlb.com/player/dietrich-enns-608650)\n",
      " \n",
      "Wed, Aug 27 • 6:35 PM EDT\n"
     ]
    },
    {
     "name": "stderr",
     "output_type": "stream",
     "text": [
      "C:\\Users\\pjwar\\AppData\\Local\\Temp\\ipykernel_104908\\1393654273.py:18: DeprecationWarning: Call to deprecated method findAll. (Replaced by find_all) -- Deprecated since version 4.0.0.\n",
      "  games = soup.findAll('div',{'class':'probable-pitchers__matchup'})\n",
      "C:\\Users\\pjwar\\AppData\\Local\\Temp\\ipykernel_104908\\1393654273.py:29: DeprecationWarning: Call to deprecated method findAll. (Replaced by find_all) -- Deprecated since version 4.0.0.\n",
      "  x.find('div', {'class':'probable-pitchers__team-names'}).findAll('span')\n",
      "C:\\Users\\pjwar\\AppData\\Local\\Temp\\ipykernel_104908\\1393654273.py:32: DeprecationWarning: Call to deprecated method findAll. (Replaced by find_all) -- Deprecated since version 4.0.0.\n",
      "  teams_code = x.find('div', {'class':'probable-pitchers__team-names'}).findAll('span')\n",
      "C:\\Users\\pjwar\\AppData\\Local\\Temp\\ipykernel_104908\\1393654273.py:37: DeprecationWarning: Call to deprecated method findAll. (Replaced by find_all) -- Deprecated since version 4.0.0.\n",
      "  pitchers_code = x.findAll('div', {'class':'probable-pitchers__pitcher-name'})\n"
     ]
    }
   ],
   "source": [
    "urls = []\n",
    "data_loc = 'data/lucky_guess/'\n",
    "\n",
    "#Get pitchers that are expected to pitch from the mlb website\n",
    "#prob_pitcher_url = 'https://www.mlb.com/probable-pitchers/'\n",
    "#prob_pitcher_url = 'https://www.mlb.com/probable-pitchers/2025-03-07'\n",
    "prob_pitcher_url = 'https://www.mlb.com/probable-pitchers/{}-{}-{}'.format(year, month, day)\n",
    "\n",
    "#save that file to disk\n",
    "prob_pitcher_file = data_loc + 'probable_pitchers.html'\n",
    "with open(prob_pitcher_file, 'wb') as f:\n",
    "        r = requests.get(prob_pitcher_url)\n",
    "        f.write(r.text.encode('utf-8'))\n",
    "\n",
    "soup = bs(open(prob_pitcher_file), 'html.parser')\n",
    "\n",
    "#find all the pictching match ups\n",
    "games = soup.findAll('div',{'class':'probable-pitchers__matchup'})\n",
    "\n",
    "#find specifically the orioles pitchers\n",
    "teams = []\n",
    "pitchers = []\n",
    "game_pitchers = []\n",
    "urls = []\n",
    "game_time = ''\n",
    "\n",
    "for x in games:\n",
    "    if target_team in x.find('div').text: #found our game\n",
    "        x.find('div', {'class':'probable-pitchers__team-names'}).findAll('span')\n",
    "\n",
    "        #Populate the teams array to identify Home and Away\n",
    "        teams_code = x.find('div', {'class':'probable-pitchers__team-names'}).findAll('span')\n",
    "        for team in teams_code:\n",
    "            print(team.text.strip())\n",
    "            teams.append(team.text.strip())\n",
    "\n",
    "        pitchers_code = x.findAll('div', {'class':'probable-pitchers__pitcher-name'})\n",
    "        for pitcher in pitchers_code:\n",
    "            #print(pitcher.text.strip())\n",
    "            try:\n",
    "                print(\"[\"+ pitcher.text.strip() + \"](https://mlb.com\" + pitcher.find('a', href=True)['href'] + \")\")\n",
    "                game_pitchers.append(\"[\"+ pitcher.text.strip() + \"](https://mlb.com\" + pitcher.find('a', href=True)['href'] + \")\")\n",
    "                urls.append(\"https://mlb.com\" + pitcher.find('a', href=True)['href'])\n",
    "            except:\n",
    "                print(\" \")\n",
    "                display(HTML(\"&emsp;Likely no printer listed check \" + make_clickable(prob_pitcher_url, \"Link\")))\n",
    "                game_pitchers.append(\"[TBD](\" + prob_pitcher_url)\n",
    "                urls.append(prob_pitcher_url)\n",
    "\n",
    "        game_time = x.find('div', {'class':'probable-pitchers__game-date-time'}).text.strip()\n",
    "        print(\" \")\n",
    "        print(game_time)"
   ]
  },
  {
   "cell_type": "code",
   "execution_count": 23,
   "id": "c2cc6c39-017d-4d55-bd3c-ec2fdf4fa3ff",
   "metadata": {},
   "outputs": [],
   "source": [
    "#actually DL the pages to parse the pitcher pages...this could fail if the page is stupid or the pitcher is not usually a starter\n",
    "for url in urls:\n",
    "    try:\n",
    "        url_file = data_loc + url.split('-')[-1] + '.html'\n",
    "        \n",
    "        #TODO create the location if it does not exist\n",
    "        with open(url_file, 'wb') as f:\n",
    "            headers = {'User-Agent': 'Mozilla/5.0 (Macintosh; Intel Mac OS X 10_10_1) AppleWebKit/537.36 (KHTML, like Gecko) Chrome/39.0.2171.95 Safari/537.36'}\n",
    "            r = requests.get(url, headers=headers)\n",
    "            f.write(r.text.encode('utf-8'))\n",
    "    except:\n",
    "        print(url)\n",
    "        print('Failed downloading the page please see the attached url to see why')"
   ]
  },
  {
   "cell_type": "code",
   "execution_count": 24,
   "id": "2cfc3f23-a5fe-4c38-8915-a84f4e514055",
   "metadata": {},
   "outputs": [
    {
     "name": "stderr",
     "output_type": "stream",
     "text": [
      "C:\\Users\\pjwar\\AppData\\Local\\Temp\\ipykernel_104908\\1287895955.py:13: DeprecationWarning: Call to deprecated method findNext. (Replaced by find_next) -- Deprecated since version 4.0.0.\n",
      "  throws = soup.find('div', {'class':'player-header--vitals'}).findNext('ul').findNext('li').findNext('li').text\n",
      "C:\\Users\\pjwar\\AppData\\Local\\Temp\\ipykernel_104908\\1287895955.py:22: DeprecationWarning: Call to deprecated method findNext. (Replaced by find_next) -- Deprecated since version 4.0.0.\n",
      "  stats = soup.find('div', {'class':'player-stats-summary-large'}).findNext('tr').findNext('tr').findAll('td')\n",
      "C:\\Users\\pjwar\\AppData\\Local\\Temp\\ipykernel_104908\\1287895955.py:22: DeprecationWarning: Call to deprecated method findAll. (Replaced by find_all) -- Deprecated since version 4.0.0.\n",
      "  stats = soup.find('div', {'class':'player-stats-summary-large'}).findNext('tr').findNext('tr').findAll('td')\n"
     ]
    },
    {
     "name": "stdout",
     "output_type": "stream",
     "text": [
      "[Brayan Bello](https://mlb.com/player/brayan-bello-678394)|Right|10-6|135.0|1.22|--|3.07|\n",
      "\n",
      "[Dietrich Enns](https://mlb.com/player/dietrich-enns-608650)|Left|2-0|.500|1.000|--|1|\n",
      "\n"
     ]
    }
   ],
   "source": [
    "#Parse the actual page for the data we want\n",
    "for url in urls:\n",
    "    try:\n",
    "        soup = bs(open(data_loc + url.split('-')[-1] + '.html', 'r', encoding='utf-8'), 'html.parser')\n",
    "    except:\n",
    "        name = url.split('-')[1] + ' ' + url.split('-')[2].split('&')[0]\n",
    "        print('|[' + name + '](' + url + ')|')\n",
    "        \n",
    "    try:\n",
    "        name = soup.find('span', {'class':'player-header--vitals-name'}).text\n",
    "    \n",
    "        convert_throws = {'R':'Right', 'L':'Left'}\n",
    "        throws = soup.find('div', {'class':'player-header--vitals'}).findNext('ul').findNext('li').findNext('li').text\n",
    "        throws = convert_throws[throws.split(' ')[-1].split('/')[-1]]\n",
    "    except:\n",
    "        name = \"TBD\"\n",
    "        throws = \"None\"\n",
    "        \n",
    "\n",
    "    # If the parser cant find pitcher stats...just put 0s\n",
    "    try:\n",
    "        stats = soup.find('div', {'class':'player-stats-summary-large'}).findNext('tr').findNext('tr').findAll('td')\n",
    "    except:\n",
    "        stats = ['0','0','0','0','0','0','0','0','0']\n",
    "\n",
    "    try:\n",
    "        print('|'.join([str('[' + name + ']') + str('('  + url + ')'),\n",
    "                    throws,\n",
    "                    str(stats[1].text).strip() + '-' + str(stats[2].text.strip()),\n",
    "                    stats[7].text.strip(),\n",
    "                    stats[9].text.strip(), \n",
    "                    '--', \n",
    "                    stats[3].text.strip()]) + '|' +'\\n')\n",
    "        pitchers.append('|'.join([str('[' + name + ']') + str('('  + url + ')'),\n",
    "                    throws,\n",
    "                    str(stats[1].text).strip() + '-' + str(stats[2].text.strip()),\n",
    "                    stats[7].text.strip(),\n",
    "                    stats[9].text.strip(), \n",
    "                    '--', \n",
    "                    stats[3].text.strip()]) + '|' +'\\n')\n",
    "    except:\n",
    "        print('|'.join([str('[' + name + ']') + str('('  + url + ')'),\n",
    "                    throws,\n",
    "                    str('NA') + '-' + str('NA'),\n",
    "                    'NA',\n",
    "                    'NA', \n",
    "                    '--', \n",
    "                    'NA']) + '|' +'\\n')\n",
    "        pitchers.append('|'.join([str('[' + name + ']') + str('('  + url + ')'),\n",
    "                    throws,\n",
    "                    str('NA') + '-' + str('NA'),\n",
    "                    'NA',\n",
    "                    'NA', \n",
    "                    '--', \n",
    "                    'NA']) + '|' +'\\n')"
   ]
  },
  {
   "cell_type": "markdown",
   "id": "c5587979-d651-4c01-9acf-e3c8ca7f4de2",
   "metadata": {},
   "source": [
    "## This is just to auto populate the template as much as possible"
   ]
  },
  {
   "cell_type": "code",
   "execution_count": 25,
   "id": "6d10b17b-1163-4012-9ea6-a84e9597badb",
   "metadata": {},
   "outputs": [],
   "source": [
    "template_dict = {\n",
    "    'away_team' : teams[0],\n",
    "    'away_selections':', '.join(team_lookup.team_selection[teams[0]]),\n",
    "    'home_team' : teams[2],\n",
    "    'home_selections':', '.join(team_lookup.team_selection[teams[2]]),\n",
    "    'away_pitcher' : pitchers[0],\n",
    "    'home_pitcher' : pitchers[1],\n",
    "    'tie_breaker': random.choice(tie_breakers.tie_breakers),\n",
    "    'away_subreddit': team_lookup.team_subs[teams[0]],\n",
    "    'home_subreddit': team_lookup.team_subs[teams[2]],\n",
    "    'game_time': game_time,\n",
    "    'score_board': scoreboard,\n",
    "    'congrats_text': congrats_text\n",
    "}"
   ]
  },
  {
   "cell_type": "markdown",
   "id": "26bade6e-8b72-4015-9a86-9d8cdd6e307e",
   "metadata": {},
   "source": [
    "## Creates hard copy of the post text in case the link fails"
   ]
  },
  {
   "cell_type": "code",
   "execution_count": 26,
   "id": "4af37986-56ee-4c66-ab2a-8ae9ac078e3d",
   "metadata": {},
   "outputs": [],
   "source": [
    "in_file = 'reddit_post_template.txt'\n",
    "out_file = 'output.txt'\n",
    " \n",
    "with open(in_file, 'r') as ifile, open(out_file, 'w') as ofile:\n",
    "    for line in ifile.readlines():       \n",
    "        ofile.write(line.format(**template_dict))"
   ]
  },
  {
   "cell_type": "markdown",
   "id": "7d537eed-bfa0-4b5b-a5f7-3407058a3c8d",
   "metadata": {},
   "source": [
    "## Creates a link that will auto populate the post"
   ]
  },
  {
   "cell_type": "code",
   "execution_count": 27,
   "id": "085e7c4b-75d2-41d5-9e39-8f4b08161af8",
   "metadata": {},
   "outputs": [],
   "source": [
    "game_text = \"\"\n",
    "try:\n",
    "    with open(out_file, 'r') as file:\n",
    "        game_text = file.read()\n",
    "        game_text = quote(game_text)\n",
    "except FileNotFoundError:\n",
    "    print(f\"Error: File not found at path: {out_file}\")\n",
    "except Exception as e:\n",
    "    print(f\"An error occurred: {e}\")\n",
    "\n",
    "title = \"[Lucky Guess] {}/{} :: Regular Season Edition\".format(month,day)"
   ]
  },
  {
   "cell_type": "code",
   "execution_count": 28,
   "id": "584143f8-0b37-4af6-ace9-3cca580c5eb0",
   "metadata": {},
   "outputs": [
    {
     "data": {
      "text/html": [
       "Click to create the post <a href=\"https://old.reddit.com/r/orioles/submit?selftext=true&title=[Lucky Guess] 08/27 :: Regular Season Edition&text=%23%23Ouch%2C%20Orioles%20fans%2C%20that%20one%20stings%21%20Unfortunately%2C%20no%20one%20hit%20the%20nail%20on%20the%20head%20with%20their%20guesses%20tonight.%20Better%20luck%20next%20game%2C%20we%27ll%20get%20%27em%20next%20time%21%0A%0AFun%20Fact%3A%20The%20longest%20game%20in%20MLB%20history%20lasted%2033%20innings%21%0A%0A%0A%2A%2ALucky%20Guess%20Standings%2A%2A%0A%0A%7C%20%20%20Rank%20%7C%20Username%20%20%20%20%20%20%20%20%20%20%20%20%20%20%20%7C%20%20%20Exact%20%7C%20%20%20%2B/-1%20%7C%20%20%20Lost%20Tie%20%7C%20%20%20Total%20Points%20%7C%0A%7C-------%3A%7C%3A-----------------------%7C--------%3A%7C-------%3A%7C-----------%3A%7C---------------%3A%7C%0A%7C%20%20%20%20%20%201%20%7C%20/u/KiwisOfWrath%20%20%20%20%20%20%20%20%7C%20%20%20%20%20%20%202%20%7C%20%20%20%20%20%202%20%7C%20%20%20%20%20%20%20%20%20%200%20%7C%20%20%20%20%20%20%20%20%20%20%20%20%2014%20%7C%0A%7C%20%20%20%20%20%202%20%7C%20/u/zombiereign%20%20%20%20%20%20%20%20%20%7C%20%20%20%20%20%20%201%20%7C%20%20%20%20%20%201%20%7C%20%20%20%20%20%20%20%20%20%200%20%7C%20%20%20%20%20%20%20%20%20%20%20%20%20%207%20%7C%0A%7C%20%20%20%20%20%203%20%7C%20/u/malkusm%20%20%20%20%20%20%20%20%20%20%20%20%20%7C%20%20%20%20%20%20%200%20%7C%20%20%20%20%20%207%20%7C%20%20%20%20%20%20%20%20%20%200%20%7C%20%20%20%20%20%20%20%20%20%20%20%20%20%207%20%7C%0A%7C%20%20%20%20%20%204%20%7C%20/u/kingfiasco%20%20%20%20%20%20%20%20%20%20%7C%20%20%20%20%20%20%200%20%7C%20%20%20%20%20%206%20%7C%20%20%20%20%20%20%20%20%20%200%20%7C%20%20%20%20%20%20%20%20%20%20%20%20%20%206%20%7C%0A%7C%20%20%20%20%20%205%20%7C%20/u/bromanow025%20%20%20%20%20%20%20%20%20%7C%20%20%20%20%20%20%201%20%7C%20%20%20%20%20%200%20%7C%20%20%20%20%20%20%20%20%20%200%20%7C%20%20%20%20%20%20%20%20%20%20%20%20%20%206%20%7C%0A%7C%20%20%20%20%20%206%20%7C%20/u/jjk2%20%20%20%20%20%20%20%20%20%20%20%20%20%20%20%20%7C%20%20%20%20%20%20%200%20%7C%20%20%20%20%20%204%20%7C%20%20%20%20%20%20%20%20%20%200%20%7C%20%20%20%20%20%20%20%20%20%20%20%20%20%204%20%7C%0A%7C%20%20%20%20%20%207%20%7C%20/u/ruffyen%20%20%20%20%20%20%20%20%20%20%20%20%20%7C%20%20%20%20%20%20%200%20%7C%20%20%20%20%20%203%20%7C%20%20%20%20%20%20%20%20%20%200%20%7C%20%20%20%20%20%20%20%20%20%20%20%20%20%203%20%7C%0A%7C%20%20%20%20%20%208%20%7C%20/u/Birdland-Flock%20%20%20%20%20%20%7C%20%20%20%20%20%20%200%20%7C%20%20%20%20%20%203%20%7C%20%20%20%20%20%20%20%20%20%200%20%7C%20%20%20%20%20%20%20%20%20%20%20%20%20%203%20%7C%0A%7C%20%20%20%20%20%209%20%7C%20/u/Jeff_Banks_Monkey%20%20%20%7C%20%20%20%20%20%20%200%20%7C%20%20%20%20%20%202%20%7C%20%20%20%20%20%20%20%20%20%200%20%7C%20%20%20%20%20%20%20%20%20%20%20%20%20%202%20%7C%0A%7C%20%20%20%20%2010%20%7C%20/u/Froslitz%20%20%20%20%20%20%20%20%20%20%20%20%7C%20%20%20%20%20%20%200%20%7C%20%20%20%20%20%202%20%7C%20%20%20%20%20%20%20%20%20%200%20%7C%20%20%20%20%20%20%20%20%20%20%20%20%20%202%20%7C%0A%7C%20%20%20%20%2011%20%7C%20/u/dwhite21787%20%20%20%20%20%20%20%20%20%7C%20%20%20%20%20%20%200%20%7C%20%20%20%20%20%202%20%7C%20%20%20%20%20%20%20%20%20%200%20%7C%20%20%20%20%20%20%20%20%20%20%20%20%20%202%20%7C%0A%7C%20%20%20%20%2012%20%7C%20/u/Master_najee99%20%20%20%20%20%20%7C%20%20%20%20%20%20%200%20%7C%20%20%20%20%20%202%20%7C%20%20%20%20%20%20%20%20%20%200%20%7C%20%20%20%20%20%20%20%20%20%20%20%20%20%202%20%7C%0A%7C%20%20%20%20%2013%20%7C%20/u/Ndysmth%20%20%20%20%20%20%20%20%20%20%20%20%20%7C%20%20%20%20%20%20%200%20%7C%20%20%20%20%20%201%20%7C%20%20%20%20%20%20%20%20%20%200%20%7C%20%20%20%20%20%20%20%20%20%20%20%20%20%201%20%7C%0A%7C%20%20%20%20%2014%20%7C%20/u/OMGisitOVERyet%20%20%20%20%20%20%7C%20%20%20%20%20%20%200%20%7C%20%20%20%20%20%201%20%7C%20%20%20%20%20%20%20%20%20%200%20%7C%20%20%20%20%20%20%20%20%20%20%20%20%20%201%20%7C%0A%7C%20%20%20%20%2015%20%7C%20/u/DrDinglberry%20%20%20%20%20%20%20%20%7C%20%20%20%20%20%20%200%20%7C%20%20%20%20%20%201%20%7C%20%20%20%20%20%20%20%20%20%200%20%7C%20%20%20%20%20%20%20%20%20%20%20%20%20%201%20%7C%0A%7C%20%20%20%20%2016%20%7C%20/u/beastrace%20%20%20%20%20%20%20%20%20%20%20%7C%20%20%20%20%20%20%200%20%7C%20%20%20%20%20%201%20%7C%20%20%20%20%20%20%20%20%20%200%20%7C%20%20%20%20%20%20%20%20%20%20%20%20%20%201%20%7C%0A%7C%20%20%20%20%2017%20%7C%20/u/lvmonkey22%20%20%20%20%20%20%20%20%20%20%7C%20%20%20%20%20%20%200%20%7C%20%20%20%20%20%201%20%7C%20%20%20%20%20%20%20%20%20%200%20%7C%20%20%20%20%20%20%20%20%20%20%20%20%20%201%20%7C%0A%7C%20%20%20%20%2018%20%7C%20/u/Ok_Platypus2016%20%20%20%20%20%7C%20%20%20%20%20%20%200%20%7C%20%20%20%20%20%201%20%7C%20%20%20%20%20%20%20%20%20%200%20%7C%20%20%20%20%20%20%20%20%20%20%20%20%20%201%20%7C%0A%7C%20%20%20%20%2019%20%7C%20/u/SecurityPrudent3817%20%7C%20%20%20%20%20%20%200%20%7C%20%20%20%20%20%201%20%7C%20%20%20%20%20%20%20%20%20%200%20%7C%20%20%20%20%20%20%20%20%20%20%20%20%20%201%20%7C%0A%7C%20%20%20%20%2020%20%7C%20/u/AussieBeerCan%20%20%20%20%20%20%20%7C%20%20%20%20%20%20%200%20%7C%20%20%20%20%20%201%20%7C%20%20%20%20%20%20%20%20%20%200%20%7C%20%20%20%20%20%20%20%20%20%20%20%20%20%201%20%7C%0A%0A%23If%20I%20missed%20your%20vote%20please%20send%20me%20a%20PM.%0A%0A%2A%2AComments%20must%20include%3A%2A%2A%0A%0A%2A%20Final%20Score%20%28winner%20must%20be%20specified%29%0A%2A%20Tiebreaker%20question%0A%2A%20Format%3A%20%5BScore%5D%20%5BWinner%5D%20%5BTiebreaker%5D%0A%0A%2A%2AAll%20guesses%20must%20be%20submitted%20by%20the%20posted%20start%20time%20to%20qualify.%2A%2A%20%0A%0A%2A%2AScoring%20will%20be%20as%20follows%3A%2A%2A%0A%0A%2A%20Exact%20guess%20%3D%206%20points.%20%20%20%0A%2A%20Off%20by%20one%20run%20%3D%201%20point.%20%20%20%0A%2A%20In%20the%20event%20of%20a%20tie%2C%20the%20loser%20of%20the%20tiebreaker%20scores%202%20points.%20%0A%0A%2A%2AIf%20two%20users%20pick%20the%20same%20score%20with%20the%20same%20tiebreaker%2C%20the%20person%20who%20submitted%20their%20guess%20first%20will%20be%20awarded%20the%206%20points.%20The%20same%20rule%20will%20apply%20when%20two%20tiebreakers%20guess%20are%20equally%20close%20to%20the%20actual%20result.%2A%2A%0A%0A%2A%2AScores%20will%20be%20tallied%20each%20night%20and%20submitted%20to%20the%20post-game%20thread.%20They%20will%20also%20appear%20in%20the%20%22Standings%22%20section%20of%20future%20Lucky%20Guess%20posts.%2A%2A%0A%0A%23Now%20let%27s%20play%20ball%21%0A%23%23Game%20time%20is%20Wed%2C%20Aug%2027%20%E2%80%A2%206%3A35%20PM%20EDT.%20%20Submissions%20made%20after%20this%20time%20will%20not%20be%20counted.%0A%23%23Tiebreaker%20for%20today%20is%20strikeouts%20thrown%20by%20Orioles%20relievers.%0A%0A%23%20Reminder%3A%20do%20not%20edit%20your%20comment.%20If%20you%20need%20to%20change%20your%20guess%2C%20delete%20your%20comment%20and%20submit%20a%20new%20guess.%20%0A%0A%23Matchup%20Statistics%0A%0AYou%20can%20find%20the%20lineups%20%5Bhere%5D%28http%3A//www.fangraphs.com/livescoreboard.aspx%3F%29%20before%20game%20time.%20%0A%0A%23Good%20luck%21%0A%20%20%20%20%0A%2A%2A%5BRed%20Sox%5D%28/r/redsox%29%2A%2A%20%20%0A%2A%2AAcceptable%20Team%20Selections%20BOS%2C%20bosox%2C%20red%20socks%2C%20red%20sox%2A%2A%20%20%0A%20%20%0A%7CStarting%20Pitcher%7CThrows%7CW-L%7CIP%7CWHIP%7CBAA%7CERA%7C%0A%3A%7C%3A--%3A%7C%3A--%3A%7C%3A--%3A%7C%3A--%3A%7C%3A--%3A%7C%3A--%3A%7C%0A%5BBrayan%20Bello%5D%28https%3A//mlb.com/player/brayan-bello-678394%29%7CRight%7C10-6%7C135.0%7C1.22%7C--%7C3.07%7C%0A%0A%20%20%0A%2A%2A%5BOrioles%5D%28/r/orioles%29%2A%2A%20%20%0A%2A%2AAcceptable%20Team%20Selections%20BAL%2C%20Os%2C%20O%27s%2C%20Orioles%2A%2A%20%20%0A%20%20%0A%7CStarting%20Pitcher%7CThrows%7CW-L%7CIP%7CWHIP%7CBAA%7CERA%7C%0A%3A%7C%3A--%3A%7C%3A--%3A%7C%3A--%3A%7C%3A--%3A%7C%3A--%3A%7C%3A--%3A%7C%0A%5BDietrich%20Enns%5D%28https%3A//mlb.com/player/dietrich-enns-608650%29%7CLeft%7C2-0%7C.500%7C1.000%7C--%7C1%7C%0A%0A%0A%23Good%20luck%21%0A%0A%0A%0A\" rel=\"noopener noreferrer\" target=\"_blank\">Link</a>"
      ],
      "text/plain": [
       "<IPython.core.display.HTML object>"
      ]
     },
     "metadata": {},
     "output_type": "display_data"
    }
   ],
   "source": [
    "display(\n",
    "    HTML(\"Click to create the post \" + \n",
    "         make_clickable(\"https://old.reddit.com/r/orioles/submit?selftext=true&title={}&text={}\".format(title, game_text), \"Link\")))"
   ]
  },
  {
   "cell_type": "code",
   "execution_count": 29,
   "id": "bd8314fa-23ce-4ab8-9dc7-70e6dcf07a4a",
   "metadata": {},
   "outputs": [
    {
     "name": "stdout",
     "output_type": "stream",
     "text": [
      "https://old.reddit.com/r/orioles/comments/1n0a5zg/lucky_guess_0826_regular_season_edition/\n"
     ]
    }
   ],
   "source": [
    "print('https://old.reddit.com' + submission.permalink)"
   ]
  }
 ],
 "metadata": {
  "kernelspec": {
   "display_name": "Python 3 (ipykernel)",
   "language": "python",
   "name": "python3"
  },
  "language_info": {
   "codemirror_mode": {
    "name": "ipython",
    "version": 3
   },
   "file_extension": ".py",
   "mimetype": "text/x-python",
   "name": "python",
   "nbconvert_exporter": "python",
   "pygments_lexer": "ipython3",
   "version": "3.12.6"
  }
 },
 "nbformat": 4,
 "nbformat_minor": 5
}
